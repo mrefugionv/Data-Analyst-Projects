{
 "cells": [
  {
   "cell_type": "markdown",
   "metadata": {},
   "source": [
    "¡Hola, Maria!\n",
    "\n",
    "Mi nombre es Tonatiuh Cruz. Me complace revisar tu proyecto hoy.\n",
    "\n",
    "Al identificar cualquier error inicialmente, simplemente los destacaré. Te animo a localizar y abordar los problemas de forma independiente como parte de tu preparación para un rol como data-analyst. En un entorno profesional, tu líder de equipo seguiría un enfoque similar. Si encuentras la tarea desafiante, proporcionaré una pista más específica en la próxima iteración.\n",
    "\n",
    "Encontrarás mis comentarios a continuación - **por favor no los muevas, modifiques o elimines**.\n",
    "\n",
    "Puedes encontrar mis comentarios en cajas verdes, amarillas o rojas como esta:\n",
    "\n",
    "<div class=\"alert alert-block alert-success\">\n",
    "<b>Comentario del revisor</b> <a class=\"tocSkip\"></a>\n",
    "\n",
    "Éxito. Todo está hecho correctamente.\n",
    "</div>\n",
    "\n",
    "<div class=\"alert alert-block alert-warning\">\n",
    "<b>Comentario del revisor</b> <a class=\"tocSkip\"></a>\n",
    "\n",
    "Observaciones. Algunas recomendaciones.\n",
    "</div>\n",
    "\n",
    "<div class=\"alert alert-block alert-danger\">\n",
    "<b>Comentario del revisor</b> <a class=\"tocSkip\"></a>\n",
    "\n",
    "Necesita corrección. El bloque requiere algunas correcciones. El trabajo no puede ser aceptado con comentarios en rojo.\n",
    "</div>\n",
    "\n",
    "Puedes responderme utilizando esto:\n",
    "\n",
    "<div class=\"alert alert-block alert-info\">\n",
    "<b>Respuesta del estudiante.</b> <a class=\"tocSkip\"></a>\n",
    "</div>"
   ]
  },
  {
   "cell_type": "markdown",
   "metadata": {},
   "source": [
    "<div class=\"alert alert-block alert-success\">\n",
    "<b>Resumen de la revisión 1</b> <a class=\"tocSkip\"></a>\n",
    "\n",
    "Hola, Maria! Has hecho un excelente trabajo al realizar el proyecto, usaste diferentes herramientas apredidas en el curso.Ya solamente te dejo algunos comentarios para terminar de complementar los análisis. \n",
    "\n",
    "Sigue con el excelente trabajo!\n",
    "</div>"
   ]
  },
  {
   "cell_type": "markdown",
   "metadata": {
    "id": "E0vqbgi9ay0H"
   },
   "source": [
    "# Déjame escuchar la música"
   ]
  },
  {
   "cell_type": "markdown",
   "metadata": {
    "id": "fhq_eyov_Zcs"
   },
   "source": [
    "# Contenido <a id='back'></a>\n",
    "\n",
    "* [Introducción](#intro)\n",
    "* [Etapa 1. Descripción de los datos](#data_review)\n",
    "    * [Conclusiones](#data_review_conclusions)\n",
    "* [Etapa 2. Preprocesamiento de datos](#data_preprocessing)\n",
    "    * [2.1 Estilo del encabezado](#header_style)\n",
    "    * [2.2 Valores ausentes](#missing_values)\n",
    "    * [2.3 Duplicados](#duplicates)\n",
    "    * [2.4 Conclusiones](#data_preprocessing_conclusions)\n",
    "* [Etapa 3. Prueba de hipótesis](#hypothesis)\n",
    "    * [3.1 Hipótesis 1: actividad de los usuarios y las usuarias en las dos ciudades](#activity)\n",
    "* [Conclusiones](#end)"
   ]
  },
  {
   "cell_type": "markdown",
   "metadata": {},
   "source": [
    "<div class=\"alert alert-block alert-warning\">\n",
    "<b>Comentario del revisor</b> <a class=\"tocSkip\"></a>\n",
    "\n",
    "La tabla de contenidos está bien estructurada, pero sería útil si estuviera enlazada a las secciones correspondientes, de manera que al hacer clic se pueda acceder directamente a cada una. Esto facilitaría la navegación."
   ]
  },
  {
   "cell_type": "markdown",
   "metadata": {
    "id": "VUC88oWjTJw2"
   },
   "source": [
    "## Introducción <a id='intro'></a>\n",
    "Como analista de datos, tu trabajo consiste en analizar datos para extraer información valiosa y tomar decisiones basadas en ellos. Esto implica diferentes etapas, como la descripción general de los datos, el preprocesamiento y la prueba de hipótesis.\n",
    "\n",
    "Siempre que investigamos, necesitamos formular hipótesis que después podamos probar. A veces aceptamos estas hipótesis; otras veces, las rechazamos. Para tomar las decisiones correctas, una empresa debe ser capaz de entender si está haciendo las suposiciones correctas.\n",
    "\n",
    "En este proyecto, compararás las preferencias musicales de las ciudades de Springfield y Shelbyville. Estudiarás datos reales de transmisión de música online para probar la hipótesis a continuación y comparar el comportamiento de los usuarios y las usuarias de estas dos ciudades.\n",
    "\n",
    "### Objetivo:\n",
    "Prueba la hipótesis:\n",
    "1. La actividad de los usuarios y las usuarias difiere según el día de la semana y dependiendo de la ciudad.\n",
    "\n",
    "\n",
    "### Etapas\n",
    "Los datos del comportamiento del usuario se almacenan en el archivo `/datasets/music_project_en.csv`. No hay ninguna información sobre la calidad de los datos, así que necesitarás examinarlos antes de probar la hipótesis.\n",
    "\n",
    "Primero, evaluarás la calidad de los datos y verás si los problemas son significativos. Entonces, durante el preprocesamiento de datos, tomarás en cuenta los problemas más críticos.\n",
    "\n",
    "Tu proyecto consistirá en tres etapas:\n",
    " 1. Descripción de los datos.\n",
    " 2. Preprocesamiento de datos.\n",
    " 3. Prueba de hipótesis.\n",
    "\n",
    "\n",
    "\n",
    "\n",
    "\n",
    "\n"
   ]
  },
  {
   "cell_type": "markdown",
   "metadata": {},
   "source": [
    "<div class=\"alert alert-block alert-success\">\n",
    "<b>Comentario del revisor</b> <a class=\"tocSkip\"></a>\n",
    "\n",
    "¡Hola! Excelente trabajo que has hecho al desarrollar la introducción. Esto es crucial para cualquier proyecto, ya que establece una guía clara sobre los pasos a seguir. Tener estos elementos bien definidos desde el principio nos permite trabajar de manera más organizada y eficiente. En un futuro lo podrías complementar con una tabla de contenido. Recuerda intentar agregar este apartado en todos tus proyectos.\n",
    "</div>"
   ]
  },
  {
   "cell_type": "markdown",
   "metadata": {
    "id": "hDt6pg-Rw-1U"
   },
   "source": [
    "[Volver a Contenidos](#back)"
   ]
  },
  {
   "cell_type": "markdown",
   "metadata": {
    "id": "Ml1hmfXC_Zcs"
   },
   "source": [
    "## Etapa 1. Descripción de los datos <a id='data_review'></a>\n",
    "\n",
    "Abre los datos y examínalos."
   ]
  },
  {
   "cell_type": "markdown",
   "metadata": {
    "id": "57eAOGIz_Zcs"
   },
   "source": [
    "Necesitarás `pandas`, así que impórtalo."
   ]
  },
  {
   "cell_type": "code",
   "execution_count": 1,
   "metadata": {
    "id": "AXN7PHPN_Zcs",
    "trusted": false
   },
   "outputs": [],
   "source": [
    "import pandas as pd # Importar pandas\n"
   ]
  },
  {
   "cell_type": "markdown",
   "metadata": {
    "id": "SG23P8tt_Zcs"
   },
   "source": [
    "Lee el archivo `music_project_en.csv` de la carpeta `/datasets/` y guárdalo en la variable `df`:"
   ]
  },
  {
   "cell_type": "code",
   "execution_count": 2,
   "metadata": {
    "id": "fFVu7vqh_Zct",
    "trusted": false
   },
   "outputs": [],
   "source": [
    "df = pd.read_csv('datasets/music_project_en.csv')# Leer el archivo y almacenarlo en df\n"
   ]
  },
  {
   "cell_type": "markdown",
   "metadata": {},
   "source": [
    "<div class=\"alert alert-block alert-success\">\n",
    "<b>Comentario del revisor:</b> <a class=\"tocSkip\"></a>\n",
    "    \n",
    "Has realizado un excelente trabajo al importar los datos y las bibliotecas necesarias.\n",
    "\n",
    "\n"
   ]
  },
  {
   "cell_type": "markdown",
   "metadata": {
    "id": "rDoOMd3uTqnZ"
   },
   "source": [
    "Muestra las 10 primeras filas de la tabla:"
   ]
  },
  {
   "cell_type": "code",
   "execution_count": 3,
   "metadata": {
    "id": "oWTVX3gW_Zct",
    "trusted": false
   },
   "outputs": [
    {
     "name": "stdout",
     "output_type": "stream",
     "text": [
      "     userID                        Track            artist   genre  \\\n",
      "0  FFB692EC            Kamigata To Boots  The Mass Missile    rock   \n",
      "1  55204538  Delayed Because of Accident  Andreas Rönnberg    rock   \n",
      "2    20EC38            Funiculì funiculà       Mario Lanza     pop   \n",
      "3  A3DD03C9        Dragons in the Sunset        Fire + Ice    folk   \n",
      "4  E2DC1FAE                  Soul People        Space Echo   dance   \n",
      "5  842029A1                       Chains          Obladaet  rusrap   \n",
      "6  4CB90AA5                         True      Roman Messer   dance   \n",
      "7  F03E1C1F             Feeling This Way   Polina Griffith   dance   \n",
      "8  8FA1D3BE                     L’estate       Julia Dalia  ruspop   \n",
      "9  E772D5C0                    Pessimist               NaN   dance   \n",
      "\n",
      "        City        time        Day  \n",
      "0  Shelbyville  20:28:33  Wednesday  \n",
      "1  Springfield  14:07:09     Friday  \n",
      "2  Shelbyville  20:58:07  Wednesday  \n",
      "3  Shelbyville  08:37:09     Monday  \n",
      "4  Springfield  08:34:34     Monday  \n",
      "5  Shelbyville  13:09:41     Friday  \n",
      "6  Springfield  13:00:07  Wednesday  \n",
      "7  Springfield  20:47:49  Wednesday  \n",
      "8  Springfield  09:17:40     Friday  \n",
      "9  Shelbyville  21:20:49  Wednesday  \n"
     ]
    }
   ],
   "source": [
    "print(df.head(10))# Obtener las 10 primeras filas de la tabla df\n"
   ]
  },
  {
   "cell_type": "markdown",
   "metadata": {
    "id": "EO73Kwic_Zct"
   },
   "source": [
    "Obtén la información general sobre la tabla con un comando. Conoces el método que muestra la información general que necesitamos."
   ]
  },
  {
   "cell_type": "code",
   "execution_count": 4,
   "metadata": {
    "id": "DSf2kIb-_Zct",
    "trusted": false
   },
   "outputs": [
    {
     "name": "stdout",
     "output_type": "stream",
     "text": [
      "<class 'pandas.core.frame.DataFrame'>\n",
      "RangeIndex: 65079 entries, 0 to 65078\n",
      "Data columns (total 7 columns):\n",
      " #   Column    Non-Null Count  Dtype \n",
      "---  ------    --------------  ----- \n",
      " 0     userID  65079 non-null  object\n",
      " 1   Track     63736 non-null  object\n",
      " 2   artist    57512 non-null  object\n",
      " 3   genre     63881 non-null  object\n",
      " 4     City    65079 non-null  object\n",
      " 5   time      65079 non-null  object\n",
      " 6   Day       65079 non-null  object\n",
      "dtypes: object(7)\n",
      "memory usage: 3.5+ MB\n",
      "None\n",
      "\n",
      "Cantidad de filas duplicados: 3826\n",
      "\n",
      "          userID  Track     artist  genre       City        time     Day\n",
      "count      65079  63736      57512  63881        65079     65079   65079\n",
      "unique     41748  39666      37806    268            2     20392       3\n",
      "top     A8AE9169  Brand  Kartvelli    pop  Springfield  08:14:07  Friday\n",
      "freq          76    136        136   8850        45360        14   23149\n"
     ]
    }
   ],
   "source": [
    "print(df.info()) # Obtener la información general sobre nuestros datos\n",
    "print()\n",
    "print(f'Cantidad de filas duplicados: {df.duplicated().sum()}')# Cant de datos duplicados\n",
    "print()\n",
    "print(df.describe(include='object')) #estadísticas\n"
   ]
  },
  {
   "cell_type": "markdown",
   "metadata": {
    "id": "TaQ2Iwbr_Zct"
   },
   "source": [
    "Estas son nuestras observaciones sobre la tabla. Contiene siete columnas. Almacenan los mismos tipos de datos: `object`.\n",
    "\n",
    "Según la documentación:\n",
    "- `' userID'`: identificador del usuario o la usuaria;\n",
    "- `'Track'`: título de la canción;\n",
    "- `'artist'`: nombre del artista;\n",
    "- `'genre'`: género de la pista;\n",
    "- `'City'`: ciudad del usuario o la usuaria;\n",
    "- `'time'`: la hora exacta en la que se reprodujo la canción;\n",
    "- `'Day'`: día de la semana.\n",
    "\n",
    "Podemos ver tres problemas con el estilo en los encabezados de la tabla:\n",
    "1. Algunos encabezados están en mayúsculas, otros en minúsculas.\n",
    "2. Hay espacios en algunos encabezados.\n",
    "3. `Detecta el tercer problema por tu cuenta y descríbelo aquí`:\n",
    "El formato que se recomienda para los nombres es el snake_case. El cual se refiere a que los nombres que, además de estar en minúsculas y sin espacios, los que se conforman por más de una palabra sean separados con guiones bajos. En este caso, 'userID' se debería convertir a 'user_id'.\n",
    "\n",
    "\n"
   ]
  },
  {
   "cell_type": "markdown",
   "metadata": {
    "id": "MCB6-dXG_Zct"
   },
   "source": [
    "### Escribe observaciones de tu parte. Estas son algunas de las preguntas que pueden ser útiles: <a id='data_review_conclusions'></a>\n",
    "\n",
    "`1.   ¿Qué tipo de datos tenemos a nuestra disposición en las filas? ¿Y cómo podemos entender lo que almacenan las columnas?`\n",
    "Cada fila nos representa cada vez que algún usuario, de estas dos ciudades, escucho una canción. Cada entreda se describe con las siguientes 7 columnas: el identificador el usuario, el título de la canción que escucho, el artista, el género de la canción,la ciudad en dónde se encontraba el usuario, la hora en que la escucho y el día de la semana en que la escucho.\\\n",
    "Los valores de todas las columnas son de tipo object, es decir, no hay valores númericos(int o float).\n",
    "\n",
    "\n",
    "`2.   ¿Hay suficientes datos para proporcionar respuestas a nuestra hipótesis o necesitamos más información?`\n",
    "\n",
    "Recordando la hipótesis : La actividad de los usuarios y las usuarias difiere según el día de la semana y dependiendo de la ciudad.\n",
    "\n",
    "Comprobar esta hipótesis implica el conocimiento de: usuarios, la ciudad, el genero musical y el día de la semana. Todos estos datos los tenemos. Aunque hay que trabajar con algunos valores auscentes (de la columna 'genre'), se tiene una muestra representativa de 65079 entradas. Con el metodo describe(), información estadídtica, se puede notar que todos estos valores son únicamente de esas dos ciudades, lo que impolica tener bastante información por cada ciudad; que tenemos también una muestra representativa de 41748 diferentes usuarios (el que más se toma en cuenta está en 76 entradas), es decir que no se toma en cuenta únicamente los gustos musicales de pocas personas; de hecho, tenemos 268 categoría de género y ya se empieza a bislumbrar que el día de la semana en que más se ecucha música es el viernes aunque no por mucho pues parece ser una parte proporcional de los tres valores de días que tenemos.\n",
    "\n",
    "En pocas palabras, se debe realizar un presprocesamiento de los datos pero tenemos suficiente información con la cual trabajar.\n",
    "\n",
    "`3.   ¿Notaste algún problema en los datos, como valores ausentes, duplicados o tipos de datos incorrectos?`\n",
    "\n",
    "Tenemos 65079 entradas (filas) en el Data Frame; hay valores auscentes en las columnas 'Track','artist' y 'genre'. \\\n",
    "Se encontraron 3826 valores duplicados."
   ]
  },
  {
   "cell_type": "markdown",
   "metadata": {
    "id": "3eL__vcwViOi"
   },
   "source": [
    "[Volver a Contenidos](#back)"
   ]
  },
  {
   "cell_type": "markdown",
   "metadata": {
    "id": "SjYF6Ub9_Zct"
   },
   "source": [
    "## Etapa 2. Preprocesamiento de datos <a id='data_preprocessing'></a>\n",
    "\n",
    "El objetivo aquí es preparar los datos para que sean analizados.\n",
    "El primer paso es resolver cualquier problema con los encabezados. Luego podemos avanzar a los valores ausentes y duplicados. Empecemos.\n",
    "\n",
    "Corrige el formato en los encabezados de la tabla.\n"
   ]
  },
  {
   "cell_type": "markdown",
   "metadata": {
    "id": "dIaKXr29_Zct"
   },
   "source": [
    "### Estilo del encabezado <a id='header_style'></a>\n",
    "Muestra los encabezados de la tabla (los nombres de las columnas):"
   ]
  },
  {
   "cell_type": "code",
   "execution_count": 5,
   "metadata": {
    "id": "oKOTdF_Q_Zct",
    "trusted": false
   },
   "outputs": [
    {
     "name": "stdout",
     "output_type": "stream",
     "text": [
      "Index(['  userID', 'Track', 'artist', 'genre', '  City  ', 'time', 'Day'], dtype='object')\n"
     ]
    }
   ],
   "source": [
    "print(df.columns)# Muestra los nombres de las columnas\n"
   ]
  },
  {
   "cell_type": "markdown",
   "metadata": {
    "id": "zj5534cv_Zct"
   },
   "source": [
    "Cambia los encabezados de la tabla de acuerdo con las reglas del buen estilo:\n",
    "* Todos los caracteres deben ser minúsculas.\n",
    "* Elimina los espacios.\n",
    "* Si el nombre tiene varias palabras, utiliza snake_case."
   ]
  },
  {
   "cell_type": "markdown",
   "metadata": {
    "id": "Xu0zkfe5zNJe"
   },
   "source": [
    "Anteriormente, aprendiste acerca de la forma automática de cambiar el nombre de las columnas. Vamos a aplicarla ahora. Utiliza el bucle for para iterar sobre los nombres de las columnas y poner todos los caracteres en minúsculas. Cuando hayas terminado, vuelve a mostrar los encabezados de la tabla:"
   ]
  },
  {
   "cell_type": "code",
   "execution_count": 6,
   "metadata": {
    "id": "6I_RwwMhzM4e",
    "trusted": false
   },
   "outputs": [
    {
     "name": "stdout",
     "output_type": "stream",
     "text": [
      "Index(['  userid', 'track', 'artist', 'genre', '  city  ', 'time', 'day'], dtype='object')\n"
     ]
    }
   ],
   "source": [
    "# Bucle en los encabezados poniendo todo en minúsculas\n",
    "\n",
    "new_col_names =[]  #Inicializar lista donde se guardaran nuevos nombres\n",
    "\n",
    "for old_name in df.columns: #iterar sobre la lista de nombre de columnas de df\n",
    "    name_lowered = old_name.lower() #cada nombre se pone en minúsculas\n",
    "    new_col_names.append(name_lowered) #cada nombre en minúsculas se añade a la lista de los nuevos nombres\n",
    "\n",
    "df.columns = new_col_names # se asigna esta nueva lista como los nombres de las columnas del df\n",
    "print(df.columns)"
   ]
  },
  {
   "cell_type": "markdown",
   "metadata": {
    "id": "pweIRxjSzPYW"
   },
   "source": [
    "Ahora, utilizando el mismo método, elimina los espacios al principio y al final de los nombres de las columnas e imprime los nombres de las columnas nuevamente:"
   ]
  },
  {
   "cell_type": "code",
   "execution_count": 7,
   "metadata": {
    "id": "vVQXbFyJzSYl",
    "trusted": false
   },
   "outputs": [
    {
     "name": "stdout",
     "output_type": "stream",
     "text": [
      "Index(['userid', 'track', 'artist', 'genre', 'city', 'time', 'day'], dtype='object')\n"
     ]
    }
   ],
   "source": [
    "# Bucle en los encabezados eliminando los espacios\n",
    "\n",
    "new_col_names =[]  #Inicializar lista donde se guardaran nuevos nombres\n",
    "\n",
    "for old_name in df.columns: #iterar sobre la lista de nombre de columnas de df\n",
    "    name_stripped = old_name.strip() #acada nombre se quitan los espacios al inicio y final\n",
    "    new_col_names.append(name_stripped) #cada nombre sin espacios se añade a la lista de los nuevos nombres\n",
    "\n",
    "df.columns = new_col_names # se asigna esta nueva lista como los nombres de las columnas del df\n",
    "print(df.columns)\n"
   ]
  },
  {
   "cell_type": "markdown",
   "metadata": {
    "id": "yCb8MW1JzURd"
   },
   "source": [
    "Necesitamos aplicar la regla de snake_case a la columna `userid`. Debe ser `user_id`. Cambia el nombre de esta columna y muestra los nombres de todas las columnas cuando hayas terminado."
   ]
  },
  {
   "cell_type": "code",
   "execution_count": 8,
   "metadata": {
    "id": "ISlFqs5y_Zct",
    "trusted": false
   },
   "outputs": [
    {
     "name": "stdout",
     "output_type": "stream",
     "text": [
      "Index(['user_id', 'track', 'artist', 'genre', 'city', 'time', 'day'], dtype='object')\n"
     ]
    }
   ],
   "source": [
    "# Cambiar el nombre de la columna \"userid\"\n",
    "col_new_name={\n",
    "    'userid':'user_id'         #se crea diccionario con llave de nombre por cambiar y valo a nuevo nombre\n",
    "}\n",
    "\n",
    "df.rename(columns=col_new_name, inplace=True) # se renombran las columnas con los valores que se encuntran en el diccionario\n",
    "print(df.columns)\n"
   ]
  },
  {
   "cell_type": "markdown",
   "metadata": {
    "id": "1dqbh00J_Zct"
   },
   "source": [
    "Comprueba el resultado. Muestra los encabezados una vez más:"
   ]
  },
  {
   "cell_type": "code",
   "execution_count": 9,
   "metadata": {
    "id": "d4NOAmTW_Zct",
    "trusted": false
   },
   "outputs": [
    {
     "name": "stdout",
     "output_type": "stream",
     "text": [
      "Index(['user_id', 'track', 'artist', 'genre', 'city', 'time', 'day'], dtype='object')\n"
     ]
    }
   ],
   "source": [
    "# Comprobar el resultado: la lista de encabezados\n",
    "print(df.columns)"
   ]
  },
  {
   "cell_type": "markdown",
   "metadata": {},
   "source": [
    "<div class=\"alert alert-block alert-success\">\n",
    "<b>Comentario del revisor</b> <a class=\"tocSkip\"></a>\n",
    "\n",
    "Muy buen trabajo! Ajustaste todos los elementos. "
   ]
  },
  {
   "cell_type": "markdown",
   "metadata": {
    "id": "xYJk6ksJVpOl"
   },
   "source": [
    "[Volver a Contenidos](#back)"
   ]
  },
  {
   "cell_type": "markdown",
   "metadata": {
    "id": "5ISfbcfY_Zct"
   },
   "source": [
    "### Valores ausentes <a id='missing_values'></a>\n",
    " Primero, encuentra el número de valores ausentes en la tabla. Debes utilizar dos métodos en una secuencia para obtener el número de valores ausentes."
   ]
  },
  {
   "cell_type": "code",
   "execution_count": 10,
   "metadata": {
    "id": "RskX29qr_Zct",
    "trusted": false
   },
   "outputs": [
    {
     "name": "stdout",
     "output_type": "stream",
     "text": [
      "user_id       0\n",
      "track      1343\n",
      "artist     7567\n",
      "genre      1198\n",
      "city          0\n",
      "time          0\n",
      "day           0\n",
      "dtype: int64\n"
     ]
    }
   ],
   "source": [
    "# Calcular el número de valores ausentes\n",
    "print(df.isnull().sum())\n"
   ]
  },
  {
   "cell_type": "markdown",
   "metadata": {
    "id": "qubhgnlO_Zct"
   },
   "source": [
    "No todos los valores ausentes afectan a la investigación. Por ejemplo, los valores ausentes en `track` y `artist` no son cruciales. Simplemente puedes reemplazarlos con valores predeterminados como el string `'unknown'` (desconocido).\n",
    "\n",
    "Pero los valores ausentes en `'genre'` pueden afectar la comparación entre las preferencias musicales de Springfield y Shelbyville. En la vida real, sería útil saber las razones por las cuales hay datos ausentes e intentar recuperarlos. Pero no tenemos esa oportunidad en este proyecto. Así que tendrás que:\n",
    "* rellenar estos valores ausentes con un valor predeterminado;\n",
    "* evaluar cuánto podrían afectar los valores ausentes a tus cómputos;"
   ]
  },
  {
   "cell_type": "markdown",
   "metadata": {
    "id": "fSv2laPA_Zct"
   },
   "source": [
    "Reemplazar los valores ausentes en las columnas `'track'`, `'artist'` y `'genre'` con el string `'unknown'`. Como mostramos anteriormente en las lecciones, la mejor forma de hacerlo es crear una lista que almacene los nombres de las columnas donde se necesita el reemplazo. Luego, utiliza esta lista e itera sobre las columnas donde se necesita el reemplazo haciendo el propio reemplazo."
   ]
  },
  {
   "cell_type": "code",
   "execution_count": 11,
   "metadata": {
    "id": "KplB5qWs_Zct",
    "trusted": false
   },
   "outputs": [
    {
     "name": "stderr",
     "output_type": "stream",
     "text": [
      "C:\\Users\\cucum\\AppData\\Local\\Temp\\ipykernel_10608\\969971642.py:5: FutureWarning: A value is trying to be set on a copy of a DataFrame or Series through chained assignment using an inplace method.\n",
      "The behavior will change in pandas 3.0. This inplace method will never work because the intermediate object on which we are setting values always behaves as a copy.\n",
      "\n",
      "For example, when doing 'df[col].method(value, inplace=True)', try using 'df.method({col: value}, inplace=True)' or df[col] = df[col].method(value) instead, to perform the operation inplace on the original object.\n",
      "\n",
      "\n",
      "  df[col].fillna('unknown',inplace=True)\n"
     ]
    }
   ],
   "source": [
    "# Bucle en los encabezados reemplazando los valores ausentes con 'unknown'\n",
    "columns = ['track','artist','genre']\n",
    "\n",
    "for col in columns:\n",
    "    df[col].fillna('unknown',inplace=True)\n"
   ]
  },
  {
   "cell_type": "markdown",
   "metadata": {
    "id": "Ilsm-MZo_Zct"
   },
   "source": [
    "Ahora comprueba el resultado para asegurarte de que después del reemplazo no haya valores ausentes en el conjunto de datos. Para hacer esto, cuenta los valores ausentes nuevamente."
   ]
  },
  {
   "cell_type": "code",
   "execution_count": 12,
   "metadata": {
    "id": "Tq4nYRX4_Zct",
    "trusted": false
   },
   "outputs": [
    {
     "name": "stdout",
     "output_type": "stream",
     "text": [
      "user_id    0\n",
      "track      0\n",
      "artist     0\n",
      "genre      0\n",
      "city       0\n",
      "time       0\n",
      "day        0\n",
      "dtype: int64\n"
     ]
    }
   ],
   "source": [
    "# Contar valores ausentes\n",
    "print(df.isnull().sum())"
   ]
  },
  {
   "cell_type": "markdown",
   "metadata": {},
   "source": [
    "\n",
    "<div class=\"alert alert-block alert-success\">\n",
    "<b>Comentario del revisor</b> <a class=\"tocSkip\"></a>\n",
    "\n",
    "Muy buen trabajo! Ajustaste todos los elementos con valores ausentes y los cambiaste con una etiqueta \"unkown\" que nos permite identificarlos</div>"
   ]
  },
  {
   "cell_type": "markdown",
   "metadata": {
    "id": "74ZIBmq9VrsK"
   },
   "source": [
    "[Volver a Contenidos](#back)"
   ]
  },
  {
   "cell_type": "markdown",
   "metadata": {
    "id": "BWKRtBJ3_Zct"
   },
   "source": [
    "### Duplicados <a id='duplicates'></a>\n",
    "Encuentra el número de duplicados explícitos en la tabla. Una vez más, debes aplicar dos métodos en una secuencia para obtener la cantidad de duplicados explícitos."
   ]
  },
  {
   "cell_type": "code",
   "execution_count": 13,
   "metadata": {
    "id": "36eES_S0_Zct",
    "trusted": false
   },
   "outputs": [
    {
     "name": "stdout",
     "output_type": "stream",
     "text": [
      "3826\n"
     ]
    }
   ],
   "source": [
    "# Contar duplicados explícitos\n",
    "print(df.duplicated().sum())"
   ]
  },
  {
   "cell_type": "markdown",
   "metadata": {
    "id": "Ot25h6XR_Zct"
   },
   "source": [
    "Ahora, elimina todos los duplicados. Para ello, llama al método que hace exactamente esto."
   ]
  },
  {
   "cell_type": "code",
   "execution_count": 14,
   "metadata": {
    "id": "exFHq6tt_Zct",
    "trusted": false
   },
   "outputs": [],
   "source": [
    "# Eliminar duplicados explícitos\n",
    "df.drop_duplicates(inplace=True)"
   ]
  },
  {
   "cell_type": "markdown",
   "metadata": {
    "id": "Im2YwBEG_Zct"
   },
   "source": [
    "Comprobemos ahora si eliminamos con éxito todos los duplicados. Cuenta los duplicados explícitos una vez más para asegurarte de haberlos eliminado todos:"
   ]
  },
  {
   "cell_type": "code",
   "execution_count": 15,
   "metadata": {
    "id": "-8PuNWQ0_Zct",
    "trusted": false
   },
   "outputs": [
    {
     "name": "stdout",
     "output_type": "stream",
     "text": [
      "0\n"
     ]
    }
   ],
   "source": [
    "# Comprobar de nuevo si hay duplicados\n",
    "\n",
    "print(df.duplicated().sum())"
   ]
  },
  {
   "cell_type": "markdown",
   "metadata": {
    "id": "QlFBsxAr_Zct"
   },
   "source": [
    "Ahora queremos deshacernos de los duplicados implícitos en la columna `genre`. Por ejemplo, el nombre de un género se puede escribir de varias formas. Dichos errores también pueden afectar al resultado."
   ]
  },
  {
   "cell_type": "markdown",
   "metadata": {
    "id": "eSjWwsOh_Zct"
   },
   "source": [
    "Para hacerlo, primero mostremos una lista de nombres de género únicos, ordenados en orden alfabético. Para ello:\n",
    "* Extrae la columna `genre` del DataFrame.\n",
    "* Llama al método que devolverá todos los valores únicos en la columna extraída.\n"
   ]
  },
  {
   "cell_type": "code",
   "execution_count": 16,
   "metadata": {
    "id": "JIUcqzZN_Zct",
    "trusted": false
   },
   "outputs": [
    {
     "name": "stdout",
     "output_type": "stream",
     "text": [
      "['rock' 'pop' 'folk' 'dance' 'rusrap' 'ruspop' 'world' 'electronic'\n",
      " 'unknown' 'alternative' 'children' 'rnb' 'hip' 'jazz' 'postrock' 'latin'\n",
      " 'classical' 'metal' 'reggae' 'triphop' 'blues' 'instrumental' 'rusrock'\n",
      " 'dnb' 'türk' 'post' 'country' 'psychedelic' 'conjazz' 'indie'\n",
      " 'posthardcore' 'local' 'avantgarde' 'punk' 'videogame' 'techno' 'house'\n",
      " 'christmas' 'melodic' 'caucasian' 'reggaeton' 'soundtrack' 'singer' 'ska'\n",
      " 'salsa' 'ambient' 'film' 'western' 'rap' 'beats' \"hard'n'heavy\"\n",
      " 'progmetal' 'minimal' 'tropical' 'contemporary' 'new' 'soul' 'holiday'\n",
      " 'german' 'jpop' 'spiritual' 'urban' 'gospel' 'nujazz' 'folkmetal'\n",
      " 'trance' 'miscellaneous' 'anime' 'hardcore' 'progressive' 'korean'\n",
      " 'numetal' 'vocal' 'estrada' 'tango' 'loungeelectronic' 'classicmetal'\n",
      " 'dubstep' 'club' 'deep' 'southern' 'black' 'folkrock' 'fitness' 'french'\n",
      " 'disco' 'religious' 'hiphop' 'drum' 'extrememetal' 'türkçe'\n",
      " 'experimental' 'easy' 'metalcore' 'modern' 'argentinetango' 'old' 'swing'\n",
      " 'breaks' 'eurofolk' 'stonerrock' 'industrial' 'funk' 'middle' 'variété'\n",
      " 'other' 'adult' 'christian' 'thrash' 'gothic' 'international' 'muslim'\n",
      " 'relax' 'schlager' 'caribbean' 'nu' 'breakbeat' 'comedy' 'chill' 'newage'\n",
      " 'specialty' 'uzbek' 'k-pop' 'balkan' 'chinese' 'meditative' 'dub' 'power'\n",
      " 'death' 'grime' 'arabesk' 'romance' 'flamenco' 'leftfield' 'european'\n",
      " 'tech' 'newwave' 'dancehall' 'mpb' 'piano' 'top' 'bigroom' 'opera'\n",
      " 'celtic' 'tradjazz' 'acoustic' 'epicmetal' 'hip-hop' 'historisch'\n",
      " 'downbeat' 'downtempo' 'africa' 'audiobook' 'jewish' 'sängerportrait'\n",
      " 'deutschrock' 'eastern' 'action' 'future' 'electropop' 'folklore'\n",
      " 'bollywood' 'marschmusik' 'rnr' 'karaoke' 'indian' 'rancheras'\n",
      " 'afrikaans' 'rhythm' 'sound' 'deutschspr' 'trip' 'lovers' 'choral'\n",
      " 'dancepop' 'retro' 'smooth' 'mexican' 'brazilian' 'ïîï' 'mood' 'surf'\n",
      " 'gangsta' 'inspirational' 'idm' 'ethnic' 'bluegrass' 'broadway'\n",
      " 'animated' 'americana' 'karadeniz' 'rockabilly' 'colombian' 'self' 'hop'\n",
      " 'sertanejo' 'japanese' 'canzone' 'lounge' 'sport' 'ragga' 'traditional'\n",
      " 'gitarre' 'frankreich' 'emo' 'laiko' 'cantopop' 'glitch' 'documentary'\n",
      " 'oceania' 'popeurodance' 'dark' 'vi' 'grunge' 'hardstyle' 'samba'\n",
      " 'garage' 'art' 'folktronica' 'entehno' 'mediterranean' 'chamber' 'cuban'\n",
      " 'taraftar' 'gypsy' 'hardtechno' 'shoegazing' 'bossa' 'latino' 'worldbeat'\n",
      " 'malaysian' 'baile' 'ghazal' 'arabic' 'popelectronic' 'acid' 'kayokyoku'\n",
      " 'neoklassik' 'tribal' 'tanzorchester' 'native' 'independent' 'cantautori'\n",
      " 'handsup' 'punjabi' 'synthpop' 'rave' 'französisch' 'quebecois' 'speech'\n",
      " 'soulful' 'jam' 'ram' 'horror' 'orchestral' 'neue' 'roots' 'slow'\n",
      " 'jungle' 'indipop' 'axé' 'fado' 'showtunes' 'arena' 'irish' 'mandopop'\n",
      " 'forró' 'dirty' 'regional']\n",
      "\n",
      "Cantidad de valores únicos en columna 'genre': 269\n"
     ]
    }
   ],
   "source": [
    "# Inspeccionar los nombres de géneros únicos\n",
    "print(df['genre'].unique())\n",
    "print()\n",
    "print(f\"Cantidad de valores únicos en columna 'genre': {df['genre'].nunique()}\") "
   ]
  },
  {
   "cell_type": "markdown",
   "metadata": {
    "id": "qej-Qmuo_Zct"
   },
   "source": [
    "Busca en la lista para encontrar duplicados implícitos del género `hiphop`. Estos pueden ser nombres escritos incorrectamente o nombres alternativos para el mismo género.\n",
    "\n",
    "Verás los siguientes duplicados implícitos:\n",
    "* `hip`\n",
    "* `hop`\n",
    "* `hip-hop`\n",
    "\n",
    "Para deshacerte de ellos, crea una función llamada `replace_wrong_genres()` con dos parámetros:\n",
    "* `wrong_genres=`: esta es una lista que contiene todos los valores que necesitas reemplazar.\n",
    "* `correct_genre=`: este es un string que vas a utilizar como reemplazo.\n",
    "\n",
    "Como resultado, la función debería corregir los nombres en la columna `'genre'` de la tabla `df`, es decir, remplazar cada valor de la lista `wrong_genres` por el valor en `correct_genre`.\n",
    "\n",
    "Dentro del cuerpo de la función, utiliza un bucle `'for'` para iterar sobre la lista de géneros incorrectos, extrae la columna `'genre'` y aplica el método `replace` para hacer correcciones."
   ]
  },
  {
   "cell_type": "code",
   "execution_count": 17,
   "metadata": {
    "id": "ErNDkmns_Zct",
    "trusted": false
   },
   "outputs": [],
   "source": [
    "# Función para reemplaza duplicados implícitos\n",
    "\n",
    "def replace_wrong_genres(wrong_genres,correct_genre):\n",
    "    for wrong_genre in wrong_genres:\n",
    "        df['genre'] = df['genre'].replace(wrong_genre,correct_genre) \n",
    "    return df"
   ]
  },
  {
   "cell_type": "markdown",
   "metadata": {},
   "source": [
    "<div class=\"alert alert-block alert-success\">\n",
    "<b>Comentario del revisor</b> <a class=\"tocSkip\"></a>\n",
    "\n",
    "Excelente trabajo con la función. Con esto nos permitira reemplazar los registros duplicados con los valores que coloquemos dentro del arguneto de la función</div>"
   ]
  },
  {
   "cell_type": "markdown",
   "metadata": {
    "id": "aDoBJxbA_Zct"
   },
   "source": [
    "Ahora, llama a `replace_wrong_genres()` y pásale tales argumentos para que retire los duplicados implícitos (`hip`, `hop` y `hip-hop`) y los reemplace por `hiphop`:"
   ]
  },
  {
   "cell_type": "code",
   "execution_count": 18,
   "metadata": {
    "id": "YN5i2hpmSo09",
    "trusted": false
   },
   "outputs": [],
   "source": [
    "# Eliminar duplicados implícitos\n",
    "wrong_genres_list = ['hip','hop','hip-hop']\n",
    "df = replace_wrong_genres(wrong_genres_list,'hiphop')"
   ]
  },
  {
   "cell_type": "markdown",
   "metadata": {
    "id": "zQKF16_RG15m"
   },
   "source": [
    "Asegúrate de que los nombres duplicados han sido eliminados. Muestra la lista de valores únicos de la columna `'genre'` una vez más:"
   ]
  },
  {
   "cell_type": "code",
   "execution_count": 19,
   "metadata": {
    "id": "wvixALnFG15m",
    "trusted": false
   },
   "outputs": [
    {
     "name": "stdout",
     "output_type": "stream",
     "text": [
      "['rock' 'pop' 'folk' 'dance' 'rusrap' 'ruspop' 'world' 'electronic'\n",
      " 'unknown' 'alternative' 'children' 'rnb' 'hiphop' 'jazz' 'postrock'\n",
      " 'latin' 'classical' 'metal' 'reggae' 'triphop' 'blues' 'instrumental'\n",
      " 'rusrock' 'dnb' 'türk' 'post' 'country' 'psychedelic' 'conjazz' 'indie'\n",
      " 'posthardcore' 'local' 'avantgarde' 'punk' 'videogame' 'techno' 'house'\n",
      " 'christmas' 'melodic' 'caucasian' 'reggaeton' 'soundtrack' 'singer' 'ska'\n",
      " 'salsa' 'ambient' 'film' 'western' 'rap' 'beats' \"hard'n'heavy\"\n",
      " 'progmetal' 'minimal' 'tropical' 'contemporary' 'new' 'soul' 'holiday'\n",
      " 'german' 'jpop' 'spiritual' 'urban' 'gospel' 'nujazz' 'folkmetal'\n",
      " 'trance' 'miscellaneous' 'anime' 'hardcore' 'progressive' 'korean'\n",
      " 'numetal' 'vocal' 'estrada' 'tango' 'loungeelectronic' 'classicmetal'\n",
      " 'dubstep' 'club' 'deep' 'southern' 'black' 'folkrock' 'fitness' 'french'\n",
      " 'disco' 'religious' 'drum' 'extrememetal' 'türkçe' 'experimental' 'easy'\n",
      " 'metalcore' 'modern' 'argentinetango' 'old' 'swing' 'breaks' 'eurofolk'\n",
      " 'stonerrock' 'industrial' 'funk' 'middle' 'variété' 'other' 'adult'\n",
      " 'christian' 'thrash' 'gothic' 'international' 'muslim' 'relax' 'schlager'\n",
      " 'caribbean' 'nu' 'breakbeat' 'comedy' 'chill' 'newage' 'specialty'\n",
      " 'uzbek' 'k-pop' 'balkan' 'chinese' 'meditative' 'dub' 'power' 'death'\n",
      " 'grime' 'arabesk' 'romance' 'flamenco' 'leftfield' 'european' 'tech'\n",
      " 'newwave' 'dancehall' 'mpb' 'piano' 'top' 'bigroom' 'opera' 'celtic'\n",
      " 'tradjazz' 'acoustic' 'epicmetal' 'historisch' 'downbeat' 'downtempo'\n",
      " 'africa' 'audiobook' 'jewish' 'sängerportrait' 'deutschrock' 'eastern'\n",
      " 'action' 'future' 'electropop' 'folklore' 'bollywood' 'marschmusik' 'rnr'\n",
      " 'karaoke' 'indian' 'rancheras' 'afrikaans' 'rhythm' 'sound' 'deutschspr'\n",
      " 'trip' 'lovers' 'choral' 'dancepop' 'retro' 'smooth' 'mexican'\n",
      " 'brazilian' 'ïîï' 'mood' 'surf' 'gangsta' 'inspirational' 'idm' 'ethnic'\n",
      " 'bluegrass' 'broadway' 'animated' 'americana' 'karadeniz' 'rockabilly'\n",
      " 'colombian' 'self' 'sertanejo' 'japanese' 'canzone' 'lounge' 'sport'\n",
      " 'ragga' 'traditional' 'gitarre' 'frankreich' 'emo' 'laiko' 'cantopop'\n",
      " 'glitch' 'documentary' 'oceania' 'popeurodance' 'dark' 'vi' 'grunge'\n",
      " 'hardstyle' 'samba' 'garage' 'art' 'folktronica' 'entehno'\n",
      " 'mediterranean' 'chamber' 'cuban' 'taraftar' 'gypsy' 'hardtechno'\n",
      " 'shoegazing' 'bossa' 'latino' 'worldbeat' 'malaysian' 'baile' 'ghazal'\n",
      " 'arabic' 'popelectronic' 'acid' 'kayokyoku' 'neoklassik' 'tribal'\n",
      " 'tanzorchester' 'native' 'independent' 'cantautori' 'handsup' 'punjabi'\n",
      " 'synthpop' 'rave' 'französisch' 'quebecois' 'speech' 'soulful' 'jam'\n",
      " 'ram' 'horror' 'orchestral' 'neue' 'roots' 'slow' 'jungle' 'indipop'\n",
      " 'axé' 'fado' 'showtunes' 'arena' 'irish' 'mandopop' 'forró' 'dirty'\n",
      " 'regional']\n",
      "\n",
      "Cantidad de valores únicos en columna 'genre': 266\n"
     ]
    }
   ],
   "source": [
    "# Comprobación de duplicados implícitos\n",
    "print(df['genre'].unique())\n",
    "print()\n",
    "print(f\"Cantidad de valores únicos en columna 'genre': {df['genre'].nunique()}\")"
   ]
  },
  {
   "cell_type": "markdown",
   "metadata": {},
   "source": [
    "<div class=\"alert alert-block alert-success\">\n",
    "<b>Comentario del revisor</b> <a class=\"tocSkip\"></a>\n",
    "\n",
    "Muy buen trabajo! Remplazaste los generos incorrectos y eliminaste los duplicados.</div>"
   ]
  },
  {
   "cell_type": "markdown",
   "metadata": {
    "id": "ALgNbvF3VtPA"
   },
   "source": [
    "[Volver a Contenidos](#back)"
   ]
  },
  {
   "cell_type": "markdown",
   "metadata": {
    "id": "jz6a9-7HQUDd"
   },
   "source": [
    "### Tus observaciones <a id='data_preprocessing_conclusions'></a>\n",
    "\n",
    "`Describe brevemente lo que has notado al analizar duplicados, cómo abordaste sus eliminaciones y qué resultados obtuviste.`\n",
    "\n",
    "Lo que hay que tener presente cuando se analizan duplicados es que exiten dos tipos: \n",
    "1. Los explicitos que son los que pandas puede detectar con una simple indtrucción (.duplicated()).\n",
    "2. Los segundos, son los implícitos. Se refieren a las pequeñas variaciones en la escritura de una cadena, que aunque para las personas nos representan un mismo concepto, la computadora no los detecta ya que el string no es exactamente igual.\n",
    "\n",
    "Es por ello que los duplicados implícitos se abordan de una manera distinta: manualmente hay que ver a variaciones en escritura tenemos de un mismo concepto e indicarle al programa que convierta todas las variantes a una misma variante. Como lo hicimos con el género 'hiphop'.\n",
    "\n",
    "De esta manera, pudimos reducir a 269 géneros \"únicos\" que detectó pandas a 266, que son realmente géneros diferentes.  "
   ]
  },
  {
   "cell_type": "markdown",
   "metadata": {
    "id": "eK1es74rVujj"
   },
   "source": [
    "[Volver a Contenidos](#back)"
   ]
  },
  {
   "cell_type": "markdown",
   "metadata": {
    "id": "WttZHXH0SqKk"
   },
   "source": [
    "## Etapa 3. Prueba de hipótesis <a id='hypothesis'></a>"
   ]
  },
  {
   "cell_type": "markdown",
   "metadata": {
    "id": "Im936VVi_Zcu"
   },
   "source": [
    "### Hipótesis: comparar el comportamiento del usuario o la usuaria en las dos ciudades <a id='activity'></a>"
   ]
  },
  {
   "cell_type": "markdown",
   "metadata": {
    "id": "nwt_MuaL_Zcu"
   },
   "source": [
    "La hipótesis afirma que existen diferencias en la forma en que los usuarios y las usuarias de Springfield y Shelbyville consumen música. Para comprobar esto, usa los datos de tres días de la semana: lunes, miércoles y viernes.\n",
    "\n",
    "* Agrupa a los usuarios y las usuarias por ciudad.\n",
    "* Compara el número de canciones que cada grupo reprodujo el lunes, el miércoles y el viernes.\n"
   ]
  },
  {
   "cell_type": "markdown",
   "metadata": {
    "id": "8Dw_YMmT_Zcu"
   },
   "source": [
    "Realiza cada cálculo por separado.\n",
    "\n",
    "El primer paso es evaluar la actividad del usuario en cada ciudad. Recuerda las etapas dividir-aplicar-combinar de las que hablamos anteriormente en la lección. Tu objetivo ahora es agrupar los datos por ciudad, aplicar el método apropiado para contar durante la etapa de aplicación y luego encontrar la cantidad de canciones reproducidas en cada grupo especificando la columna para obtener el recuento.\n",
    "\n",
    "A continuación se muestra un ejemplo de cómo debería verse el resultado final:\n",
    "`df.groupby(by='....')['column'].method()`Realiza cada cálculo por separado.\n",
    "\n",
    "Para evaluar la actividad de los usuarios y las usuarias en cada ciudad, agrupa los datos por ciudad y encuentra la cantidad de canciones reproducidas en cada grupo.\n",
    "\n"
   ]
  },
  {
   "cell_type": "code",
   "execution_count": 20,
   "metadata": {
    "id": "0_Qs96oh_Zcu",
    "trusted": false
   },
   "outputs": [
    {
     "data": {
      "text/plain": [
       "city\n",
       "Shelbyville    18512\n",
       "Springfield    42741\n",
       "Name: city, dtype: int64"
      ]
     },
     "execution_count": 20,
     "metadata": {},
     "output_type": "execute_result"
    }
   ],
   "source": [
    "# Contar las canciones reproducidas en cada ciudad\n",
    "df.groupby(by='city')['city'].count() # Podemos contar elementos de cualquier columna para saber el número de canciones reproducidas en cada ciudad.\n"
   ]
  },
  {
   "cell_type": "markdown",
   "metadata": {
    "id": "t_Qx-3NewAnK"
   },
   "source": [
    "`Comenta tus observaciones aquí`\n",
    "\n",
    "Una vez agrupadas las filas del dataframe por los valores de la columna 'city' ('Shebyville' o 'Springfield'), se puede contar el número de filas , de cualquier columna, en cada grupo. En este caso utilice la misma columna 'city', sin embargo, pude haber utilizado 'track','genre'... Ya que solo estamos contando las filas.\n",
    "\n",
    "En cuanto a resultados, vemos que tenemos un poco más del doble de entradas de  usuarios de Springfield que de Shelbyville."
   ]
  },
  {
   "cell_type": "markdown",
   "metadata": {
    "id": "dzli3w8o_Zcu"
   },
   "source": [
    "Ahora agrupemos los datos por día de la semana y encontremos el número de canciones reproducidas el lunes, miércoles y viernes. Utiliza el mismo método que antes, pero ahora necesitamos una agrupación diferente.\n"
   ]
  },
  {
   "cell_type": "code",
   "execution_count": 21,
   "metadata": {
    "id": "uZMKjiJz_Zcu",
    "trusted": false
   },
   "outputs": [
    {
     "data": {
      "text/plain": [
       "day\n",
       "Friday       21840\n",
       "Monday       21354\n",
       "Wednesday    18059\n",
       "Name: day, dtype: int64"
      ]
     },
     "execution_count": 21,
     "metadata": {},
     "output_type": "execute_result"
    }
   ],
   "source": [
    "# Calcular las canciones reproducidas en cada uno de los tres días\n",
    "df.groupby(by='day')['day'].count()"
   ]
  },
  {
   "cell_type": "markdown",
   "metadata": {
    "id": "cC2tNrlL_Zcu"
   },
   "source": [
    "`Comenta tus observaciones aquí`\n",
    " \n",
    "Vemos que hay más escuchas el viernes, le sigue el lunes y por último el miércoles. Con una variación aproximada entre viernes y miercoles del 17%."
   ]
  },
  {
   "cell_type": "markdown",
   "metadata": {
    "id": "POzs8bGa_Zcu"
   },
   "source": [
    "Ya sabes cómo contar entradas agrupándolas por ciudad o día. Ahora necesitas escribir una función que pueda contar entradas según ambos criterios simultáneamente.\n",
    "\n",
    "Crea la función `number_tracks()` para calcular el número de canciones reproducidas en un determinado día **y** ciudad. La función debe aceptar dos parámetros:\n",
    "\n",
    "- `day`: un día de la semana para filtrar. Por ejemplo, `'Monday'` (lunes).\n",
    "- `city`: una ciudad para filtrar. Por ejemplo, `'Springfield'`.\n",
    "\n",
    "Dentro de la función, aplicarás un filtrado consecutivo con indexación lógica.\n",
    "\n",
    "Primero filtra los datos por día y luego filtra la tabla resultante por ciudad.\n",
    "\n",
    "Después de filtrar los datos por dos criterios, cuenta el número de valores de la columna 'user_id' en la tabla resultante. Este recuento representa el número de entradas que estás buscando. Guarda el resultado en una nueva variable y devuélvelo desde la función."
   ]
  },
  {
   "cell_type": "code",
   "execution_count": 22,
   "metadata": {
    "id": "Nz3GdQB1_Zcu",
    "trusted": false
   },
   "outputs": [],
   "source": [
    "# Declara la función number_tracks() con dos parámetros: day= y city=.\n",
    "def number_tracks(day,city):\n",
    "    \n",
    "    # Almacena las filas del DataFrame donde el valor en la columna 'day' es igual al parámetro day=\n",
    "    df_filtered_day = df[df['day'] == day]\n",
    "    \n",
    "    # Filtra las filas donde el valor en la columna 'city' es igual al parámetro city=\n",
    "    df_filtered_city = df_filtered_day[df_filtered_day['city'] == city]\n",
    "    \n",
    "    # Extrae la columna 'user_id' de la tabla filtrada y aplica el método count()\n",
    "    cant_user = df_filtered_city['user_id'].count()\n",
    "\n",
    "    # Devolve el número de valores de la columna 'user_id'\n",
    "    return cant_user"
   ]
  },
  {
   "cell_type": "markdown",
   "metadata": {},
   "source": [
    "<div class=\"alert alert-block alert-success\">\n",
    "<b>Comentario del revisor</b> <a class=\"tocSkip\"></a>\n",
    "\n",
    "Realizaste un gran trabajo con la definición de la función. Como pudiste notar, el desarrollar funciones nos permiten encapsular lógica reutilizable, evitando la repetición de código y facilitando su uso en diferentes partes de un programa o en distintos proyectos.</div>"
   ]
  },
  {
   "cell_type": "markdown",
   "metadata": {
    "id": "ytf7xFrFJQ2r"
   },
   "source": [
    "Llama a `number_tracks()` seis veces, cambiando los valores de los parámetros para que recuperes los datos de ambas ciudades para cada uno de los tres días."
   ]
  },
  {
   "cell_type": "code",
   "execution_count": 23,
   "metadata": {
    "id": "rJcRATNQ_Zcu",
    "trusted": false
   },
   "outputs": [
    {
     "name": "stdout",
     "output_type": "stream",
     "text": [
      "El número de canciones reproducidas en Springfield el lunes: 15740\n"
     ]
    }
   ],
   "source": [
    "# El número de canciones reproducidas en Springfield el lunes\n",
    "spl = number_tracks('Monday','Springfield')\n",
    "print(f'El número de canciones reproducidas en Springfield el lunes: {spl}')"
   ]
  },
  {
   "cell_type": "code",
   "execution_count": 24,
   "metadata": {
    "id": "hq_ncZ5T_Zcu",
    "trusted": false
   },
   "outputs": [
    {
     "name": "stdout",
     "output_type": "stream",
     "text": [
      "El número de canciones reproducidas en Shelbyville el lunes: 5614\n"
     ]
    }
   ],
   "source": [
    "# El número de canciones reproducidas en Shelbyville el lunes\n",
    "shl = number_tracks('Monday','Shelbyville')\n",
    "print(f'El número de canciones reproducidas en Shelbyville el lunes: {shl}')"
   ]
  },
  {
   "cell_type": "code",
   "execution_count": 25,
   "metadata": {
    "id": "_NTy2VPU_Zcu",
    "trusted": false
   },
   "outputs": [
    {
     "name": "stdout",
     "output_type": "stream",
     "text": [
      "El número de canciones reproducidas en Springfield el miercoles: 11056\n"
     ]
    }
   ],
   "source": [
    "# El número de canciones reproducidas en Springfield el miércoles\n",
    "spm = number_tracks('Wednesday','Springfield')\n",
    "print(f'El número de canciones reproducidas en Springfield el miercoles: {spm}')\n"
   ]
  },
  {
   "cell_type": "code",
   "execution_count": 26,
   "metadata": {
    "id": "j2y3TAwo_Zcu",
    "trusted": false
   },
   "outputs": [
    {
     "name": "stdout",
     "output_type": "stream",
     "text": [
      "El número de canciones reproducidas en Shelbyville el  miercoles: 7003\n"
     ]
    }
   ],
   "source": [
    "# El número de canciones reproducidas en Shelbyville el miércoles\n",
    "shm = number_tracks('Wednesday','Shelbyville')\n",
    "print(f'El número de canciones reproducidas en Shelbyville el  miercoles: {shm}')\n"
   ]
  },
  {
   "cell_type": "code",
   "execution_count": 27,
   "metadata": {
    "id": "vYDw5u_K_Zcu",
    "trusted": false
   },
   "outputs": [
    {
     "name": "stdout",
     "output_type": "stream",
     "text": [
      "El número de canciones reproducidas en Springfield el viernes: 15945\n"
     ]
    }
   ],
   "source": [
    "# El número de canciones reproducidas en Springfield el viernes\n",
    "spv = number_tracks('Friday','Springfield')\n",
    "print(f'El número de canciones reproducidas en Springfield el viernes: {spv}')"
   ]
  },
  {
   "cell_type": "code",
   "execution_count": 28,
   "metadata": {
    "id": "8_yzFtW3_Zcu",
    "trusted": false
   },
   "outputs": [
    {
     "name": "stdout",
     "output_type": "stream",
     "text": [
      "El número de canciones reproducidas en Shelbyville el  viernes: 5895\n"
     ]
    }
   ],
   "source": [
    "# El número de canciones reproducidas en Shelbyville el viernes\n",
    "shv = number_tracks('Friday','Shelbyville')\n",
    "print(f'El número de canciones reproducidas en Shelbyville el  viernes: {shv}')"
   ]
  },
  {
   "cell_type": "markdown",
   "metadata": {
    "id": "-EgPIHYu_Zcu"
   },
   "source": [
    "**Conclusiones**\n",
    "\n",
    "`Comenta si la hipótesis es correcta o se debe rechazar. Explica tu razonamiento.\n",
    "\n",
    "Acepto la hipótesis: \n",
    "\n",
    "Si bien los números varian en cada ciudad por día y cada día ambas ciudades tienen diferente cantidad de usuarios, hay que tomar en cuenta este factor:\n",
    "Que no se tienen la misma cantidad de muestras para ambas ciudades. Es por ello que no hay que dejarse llevar por la difrencia entre cada ciudad por día. Para Shelbyville tenemos 18512 y para Springfield tenemos 42741.\n",
    "\n",
    "Tomando la observación descrita, me permiti ver los porcentajes que cada día representaba en las entrada de cada ciudad, los resultados fueron los siguientes:\\\n",
    "  Ciudad:....              |   Lunes      |   Miércoles   |  Viernes \\\n",
    "  Shelbyville            |   30.8 %     |   37.8 %      |  31.2 % \\\n",
    "  Springfield            |   36.8 %     |   25.8 %      |  37.3 % \n",
    "  \n",
    "Con la tabla anterior podemos ver que el comportamiento en ambas ciudades son semejantes el lunes y el viernes; y los miércoles\n",
    "es el día favorito para escuchar música en Shelbyville, mientras que ese mismo día el de menos escucha en Springfield.  Con lo cual se confirma la hipótesis:  La actividad de los usuarios y las usuarias difiere según el día de la semana y dependiendo de la ciudad."
   ]
  },
  {
   "cell_type": "markdown",
   "metadata": {},
   "source": [
    "<div class=\"alert alert-block alert-success\">\n",
    "<b>Comentario del revisor</b> <a class=\"tocSkip\"></a>\n",
    "\n",
    "Hola! Excelente trabajo. En futuros cursos vas a poder complementar estas pruebas con pruebas estadisticas por las pruebas de diferencias de medias, además vas a poder explorar el desarrollo de gráficas que complementen este análisis. Por ejemplo en este caso podríamos desarrollar una gráfica que muestre la cantidad de canciones por día y otra que muestre la relación por ciudad. Para esto puedes aplicar la función que creaste para obtener la información necesaria para hacer estas gráficas</div>"
   ]
  },
  {
   "cell_type": "markdown",
   "metadata": {
    "id": "p7nFQajCVw5B"
   },
   "source": [
    "[Volver a Contenidos](#back)"
   ]
  },
  {
   "cell_type": "markdown",
   "metadata": {
    "id": "ykKQ0N65_Zcv"
   },
   "source": [
    "# Conclusiones <a id='end'></a>"
   ]
  },
  {
   "cell_type": "markdown",
   "metadata": {
    "id": "tjUwbHb3_Zcv"
   },
   "source": [
    "`Resume aquí tus conclusiones sobre la hipótesis.`\n",
    "\n",
    "En conclusión, acepto la hipótesis. \n",
    "Ya que mediante todos los información obtenida durante el procesamiento de la base de datos, y como se mostro en el razomaniento anterior, he encontrado que: \n",
    "El comportamiento en cada una de las ciudades son semejantes el lunes y el viernes (diferente en cada ciudad); y los miércoles\n",
    "es el día favorito para escuchar música en Shelbyville, mientras que ese mismo día el de menos escucha en Springfield.  Con lo cual se confirma la hipótesis:  La actividad de los usuarios y las usuarias difiere según el día de la semana y dependiendo de la ciudad."
   ]
  },
  {
   "cell_type": "markdown",
   "metadata": {
    "id": "azLHu64yOIp7"
   },
   "source": [
    "### Nota\n",
    "En proyectos de investigación reales, la prueba de hipótesis estadística es más precisa y cuantitativa. También ten en cuenta que no siempre se pueden sacar conclusiones sobre una ciudad entera a partir de datos de una sola fuente.\n",
    "\n",
    "Aprenderás más sobre la prueba de hipótesis en el sprint de análisis estadístico de datos."
   ]
  },
  {
   "cell_type": "markdown",
   "metadata": {},
   "source": [
    "<div class=\"alert alert-block alert-success\">\n",
    "<b>Comentario general</b> <a class=\"tocSkip\"></a>\n",
    "\n",
    "Maria,  hiciste un muy buen trabajo con el proyecto, pudiste resolver todos los ejericios de una forma adecuada y se nota que hiciste uso de todas las herramientas aprendidas. Además, considero que te ayudo para aprender el uso de algunas funciones que te sirvan en los siguientes cursos. Solamente verifica lo de la tabla de contenidos .\n",
    "\n",
    "Exitos en lo que viene, saludos.</div>"
   ]
  },
  {
   "cell_type": "markdown",
   "metadata": {
    "id": "Ju4AHDSgV1FE"
   },
   "source": [
    "[Volver a Contenidos](#back)"
   ]
  }
 ],
 "metadata": {
  "ExecuteTimeLog": [
   {
    "duration": 164,
    "start_time": "2024-11-28T00:31:40.696Z"
   },
   {
    "duration": 11,
    "start_time": "2024-11-28T00:31:46.991Z"
   },
   {
    "duration": 283,
    "start_time": "2024-11-28T00:31:53.559Z"
   },
   {
    "duration": 2,
    "start_time": "2024-11-28T00:31:57.981Z"
   },
   {
    "duration": 112,
    "start_time": "2024-11-28T00:32:00.058Z"
   },
   {
    "duration": 7,
    "start_time": "2024-11-28T00:32:04.448Z"
   },
   {
    "duration": 22,
    "start_time": "2024-11-28T00:32:38.982Z"
   },
   {
    "duration": 58,
    "start_time": "2024-11-28T00:57:14.474Z"
   },
   {
    "duration": 54,
    "start_time": "2024-11-28T00:57:33.628Z"
   },
   {
    "duration": 5,
    "start_time": "2024-11-28T00:57:51.948Z"
   },
   {
    "duration": 61,
    "start_time": "2024-11-28T00:58:07.646Z"
   },
   {
    "duration": 57,
    "start_time": "2024-11-28T01:00:34.883Z"
   },
   {
    "duration": 34,
    "start_time": "2024-11-28T01:04:11.601Z"
   },
   {
    "duration": 64,
    "start_time": "2024-11-28T01:05:55.030Z"
   },
   {
    "duration": 63,
    "start_time": "2024-11-28T01:06:27.622Z"
   },
   {
    "duration": 154,
    "start_time": "2024-11-28T01:06:46.143Z"
   },
   {
    "duration": 3,
    "start_time": "2024-11-28T01:22:49.664Z"
   },
   {
    "duration": 4,
    "start_time": "2024-11-28T01:27:00.091Z"
   },
   {
    "duration": 3,
    "start_time": "2024-11-28T01:28:47.102Z"
   },
   {
    "duration": 11,
    "start_time": "2024-11-28T01:30:23.005Z"
   },
   {
    "duration": 14,
    "start_time": "2024-11-28T01:33:50.450Z"
   },
   {
    "duration": 4,
    "start_time": "2024-11-28T01:34:02.598Z"
   },
   {
    "duration": 3,
    "start_time": "2024-11-28T01:34:12.143Z"
   },
   {
    "duration": 3,
    "start_time": "2024-11-28T01:34:23.284Z"
   },
   {
    "duration": 4,
    "start_time": "2024-11-28T01:34:33.270Z"
   },
   {
    "duration": 4,
    "start_time": "2024-11-28T01:36:11.503Z"
   },
   {
    "duration": 3,
    "start_time": "2024-11-28T01:36:33.886Z"
   },
   {
    "duration": 19,
    "start_time": "2024-11-28T01:37:35.410Z"
   },
   {
    "duration": 17,
    "start_time": "2024-11-28T01:37:45.751Z"
   },
   {
    "duration": 9,
    "start_time": "2024-11-28T01:41:56.695Z"
   },
   {
    "duration": 17,
    "start_time": "2024-11-28T01:42:29.569Z"
   },
   {
    "duration": 22,
    "start_time": "2024-11-28T01:42:46.400Z"
   },
   {
    "duration": 42,
    "start_time": "2024-11-28T01:43:14.248Z"
   },
   {
    "duration": 46,
    "start_time": "2024-11-28T01:43:44.425Z"
   },
   {
    "duration": 38,
    "start_time": "2024-11-28T01:43:58.622Z"
   },
   {
    "duration": 5,
    "start_time": "2024-11-28T01:45:08.114Z"
   },
   {
    "duration": 8,
    "start_time": "2024-11-28T01:45:43.371Z"
   },
   {
    "duration": 5,
    "start_time": "2024-11-28T01:45:59.146Z"
   },
   {
    "duration": 3,
    "start_time": "2024-11-28T01:52:38.331Z"
   },
   {
    "duration": 17,
    "start_time": "2024-11-28T01:52:42.822Z"
   },
   {
    "duration": 3,
    "start_time": "2024-11-28T01:53:14.539Z"
   },
   {
    "duration": 5,
    "start_time": "2024-11-28T01:53:17.414Z"
   },
   {
    "duration": 11,
    "start_time": "2024-11-28T01:53:44.245Z"
   },
   {
    "duration": 6,
    "start_time": "2024-11-28T01:53:52.608Z"
   },
   {
    "duration": 10,
    "start_time": "2024-11-28T01:54:14.431Z"
   },
   {
    "duration": 11,
    "start_time": "2024-11-28T01:54:25.703Z"
   },
   {
    "duration": 5,
    "start_time": "2024-11-28T01:55:11.569Z"
   },
   {
    "duration": 5,
    "start_time": "2024-11-28T01:55:22.773Z"
   },
   {
    "duration": 4,
    "start_time": "2024-11-28T01:57:15.035Z"
   },
   {
    "duration": 6,
    "start_time": "2024-11-28T01:57:40.914Z"
   },
   {
    "duration": 2,
    "start_time": "2024-11-28T01:58:43.350Z"
   },
   {
    "duration": 4,
    "start_time": "2024-11-28T01:58:46.158Z"
   },
   {
    "duration": 10,
    "start_time": "2024-11-28T01:59:06.241Z"
   },
   {
    "duration": 4,
    "start_time": "2024-11-28T01:59:37.791Z"
   },
   {
    "duration": 11,
    "start_time": "2024-11-28T01:59:43.886Z"
   },
   {
    "duration": 3,
    "start_time": "2024-11-28T02:00:54.115Z"
   },
   {
    "duration": 2,
    "start_time": "2024-11-28T02:00:58.563Z"
   },
   {
    "duration": 3,
    "start_time": "2024-11-28T02:01:27.166Z"
   },
   {
    "duration": 4,
    "start_time": "2024-11-28T02:01:30.050Z"
   },
   {
    "duration": 5,
    "start_time": "2024-11-28T02:02:08.971Z"
   },
   {
    "duration": 11,
    "start_time": "2024-11-28T02:02:13.774Z"
   },
   {
    "duration": 3,
    "start_time": "2024-11-28T02:03:41.632Z"
   },
   {
    "duration": 4,
    "start_time": "2024-11-28T02:03:46.406Z"
   },
   {
    "duration": 11,
    "start_time": "2024-11-28T02:03:50.325Z"
   },
   {
    "duration": 3,
    "start_time": "2024-11-28T02:05:05.633Z"
   },
   {
    "duration": 24,
    "start_time": "2024-11-28T02:05:07.971Z"
   },
   {
    "duration": 10,
    "start_time": "2024-11-28T02:05:12.774Z"
   },
   {
    "duration": 3,
    "start_time": "2024-11-28T02:05:40.999Z"
   },
   {
    "duration": 25,
    "start_time": "2024-11-28T02:05:43.081Z"
   },
   {
    "duration": 11,
    "start_time": "2024-11-28T02:05:45.783Z"
   },
   {
    "duration": 3,
    "start_time": "2024-11-28T02:06:54.435Z"
   },
   {
    "duration": 24,
    "start_time": "2024-11-28T02:06:56.830Z"
   },
   {
    "duration": 10,
    "start_time": "2024-11-28T02:06:59.335Z"
   },
   {
    "duration": 3,
    "start_time": "2024-11-28T02:07:13.721Z"
   },
   {
    "duration": 5,
    "start_time": "2024-11-28T02:07:15.270Z"
   },
   {
    "duration": 11,
    "start_time": "2024-11-28T02:07:19.691Z"
   },
   {
    "duration": 2,
    "start_time": "2024-11-28T02:07:39.286Z"
   },
   {
    "duration": 4,
    "start_time": "2024-11-28T02:07:42.584Z"
   },
   {
    "duration": 11,
    "start_time": "2024-11-28T02:07:45.039Z"
   },
   {
    "duration": 4,
    "start_time": "2024-11-28T02:08:42.454Z"
   },
   {
    "duration": 10,
    "start_time": "2024-11-28T02:08:57.989Z"
   },
   {
    "duration": 11,
    "start_time": "2024-11-28T02:09:03.697Z"
   },
   {
    "duration": 2,
    "start_time": "2024-11-28T02:09:42.471Z"
   },
   {
    "duration": 8,
    "start_time": "2024-11-28T02:09:46.085Z"
   },
   {
    "duration": 10,
    "start_time": "2024-11-28T02:09:53.006Z"
   },
   {
    "duration": 4,
    "start_time": "2024-11-28T02:10:17.047Z"
   },
   {
    "duration": 6,
    "start_time": "2024-11-28T02:10:29.413Z"
   },
   {
    "duration": 1,
    "start_time": "2024-11-28T02:10:33.963Z"
   },
   {
    "duration": 11,
    "start_time": "2024-11-28T02:10:35.804Z"
   },
   {
    "duration": 7,
    "start_time": "2024-11-28T02:11:18.818Z"
   },
   {
    "duration": 2,
    "start_time": "2024-11-28T02:11:27.208Z"
   },
   {
    "duration": 11,
    "start_time": "2024-11-28T02:11:29.013Z"
   },
   {
    "duration": 6,
    "start_time": "2024-11-28T02:13:40.328Z"
   },
   {
    "duration": 4,
    "start_time": "2024-11-28T02:14:04.830Z"
   },
   {
    "duration": 3,
    "start_time": "2024-11-28T02:14:10.726Z"
   },
   {
    "duration": 4,
    "start_time": "2024-11-28T02:14:15.475Z"
   },
   {
    "duration": 10,
    "start_time": "2024-11-28T02:14:24.749Z"
   },
   {
    "duration": 3,
    "start_time": "2024-11-28T02:21:32.367Z"
   },
   {
    "duration": 4,
    "start_time": "2024-11-28T02:21:35.880Z"
   },
   {
    "duration": 10,
    "start_time": "2024-11-28T02:21:38.812Z"
   },
   {
    "duration": 11,
    "start_time": "2024-11-28T02:22:15.797Z"
   },
   {
    "duration": 11,
    "start_time": "2024-11-28T02:22:33.311Z"
   },
   {
    "duration": 4,
    "start_time": "2024-11-28T02:23:29.867Z"
   },
   {
    "duration": 6,
    "start_time": "2024-11-28T02:23:32.151Z"
   },
   {
    "duration": 3,
    "start_time": "2024-11-28T02:24:07.175Z"
   },
   {
    "duration": 5,
    "start_time": "2024-11-28T02:24:09.864Z"
   },
   {
    "duration": 3,
    "start_time": "2024-11-28T02:25:34.790Z"
   },
   {
    "duration": 16,
    "start_time": "2024-11-28T02:25:37.212Z"
   },
   {
    "duration": 3,
    "start_time": "2024-11-28T02:26:02.612Z"
   },
   {
    "duration": 13,
    "start_time": "2024-11-28T02:26:04.042Z"
   },
   {
    "duration": 3,
    "start_time": "2024-11-28T02:26:21.833Z"
   },
   {
    "duration": 16,
    "start_time": "2024-11-28T02:26:23.064Z"
   },
   {
    "duration": 3,
    "start_time": "2024-11-28T02:26:43.133Z"
   },
   {
    "duration": 14,
    "start_time": "2024-11-28T02:26:45.138Z"
   },
   {
    "duration": 3,
    "start_time": "2024-11-28T02:27:08.245Z"
   },
   {
    "duration": 14,
    "start_time": "2024-11-28T02:27:09.892Z"
   },
   {
    "duration": 14,
    "start_time": "2024-11-28T02:27:54.091Z"
   },
   {
    "duration": 3,
    "start_time": "2024-11-28T02:27:56.691Z"
   },
   {
    "duration": 3,
    "start_time": "2024-11-28T02:28:33.888Z"
   },
   {
    "duration": 33,
    "start_time": "2024-11-28T02:28:36.189Z"
   },
   {
    "duration": 3,
    "start_time": "2024-11-28T02:30:06.314Z"
   },
   {
    "duration": 281,
    "start_time": "2024-11-28T02:36:06.649Z"
   },
   {
    "duration": 100,
    "start_time": "2024-11-28T02:36:06.933Z"
   },
   {
    "duration": 7,
    "start_time": "2024-11-28T02:36:07.035Z"
   },
   {
    "duration": 162,
    "start_time": "2024-11-28T02:36:07.044Z"
   },
   {
    "duration": 3,
    "start_time": "2024-11-28T02:36:07.209Z"
   },
   {
    "duration": 4,
    "start_time": "2024-11-28T02:36:07.214Z"
   },
   {
    "duration": 3,
    "start_time": "2024-11-28T02:36:07.221Z"
   },
   {
    "duration": 3,
    "start_time": "2024-11-28T02:36:07.226Z"
   },
   {
    "duration": 4,
    "start_time": "2024-11-28T02:36:07.231Z"
   },
   {
    "duration": 45,
    "start_time": "2024-11-28T02:36:07.238Z"
   },
   {
    "duration": 10,
    "start_time": "2024-11-28T02:36:07.285Z"
   },
   {
    "duration": 16,
    "start_time": "2024-11-28T02:36:07.297Z"
   },
   {
    "duration": 63,
    "start_time": "2024-11-28T02:36:07.315Z"
   },
   {
    "duration": 44,
    "start_time": "2024-11-28T02:36:07.380Z"
   },
   {
    "duration": 52,
    "start_time": "2024-11-28T02:36:07.426Z"
   },
   {
    "duration": 10,
    "start_time": "2024-11-28T02:36:07.480Z"
   },
   {
    "duration": 4,
    "start_time": "2024-11-28T02:36:07.492Z"
   },
   {
    "duration": 0,
    "start_time": "2024-11-28T02:36:07.498Z"
   },
   {
    "duration": 0,
    "start_time": "2024-11-28T02:36:07.499Z"
   },
   {
    "duration": 0,
    "start_time": "2024-11-28T02:36:07.501Z"
   },
   {
    "duration": 0,
    "start_time": "2024-11-28T02:36:07.502Z"
   },
   {
    "duration": 0,
    "start_time": "2024-11-28T02:36:07.503Z"
   },
   {
    "duration": 0,
    "start_time": "2024-11-28T02:36:07.504Z"
   },
   {
    "duration": 0,
    "start_time": "2024-11-28T02:36:07.505Z"
   },
   {
    "duration": 0,
    "start_time": "2024-11-28T02:36:07.507Z"
   },
   {
    "duration": 0,
    "start_time": "2024-11-28T02:36:07.508Z"
   },
   {
    "duration": 0,
    "start_time": "2024-11-28T02:36:07.509Z"
   },
   {
    "duration": 0,
    "start_time": "2024-11-28T02:36:07.510Z"
   },
   {
    "duration": 3,
    "start_time": "2024-11-28T02:37:02.559Z"
   },
   {
    "duration": 11,
    "start_time": "2024-11-28T02:37:13.117Z"
   },
   {
    "duration": 12,
    "start_time": "2024-11-28T02:37:41.536Z"
   },
   {
    "duration": 11,
    "start_time": "2024-11-28T02:37:47.984Z"
   },
   {
    "duration": 3,
    "start_time": "2024-11-28T02:38:37.396Z"
   },
   {
    "duration": 10,
    "start_time": "2024-11-28T02:38:39.909Z"
   },
   {
    "duration": 5,
    "start_time": "2024-11-28T02:39:16.970Z"
   },
   {
    "duration": 7,
    "start_time": "2024-11-28T02:39:18.633Z"
   },
   {
    "duration": 3,
    "start_time": "2024-11-28T02:39:35.195Z"
   },
   {
    "duration": 8,
    "start_time": "2024-11-28T02:39:42.313Z"
   },
   {
    "duration": 10,
    "start_time": "2024-11-28T02:39:46.109Z"
   },
   {
    "duration": 107,
    "start_time": "2024-11-28T02:52:15.768Z"
   },
   {
    "duration": 12,
    "start_time": "2024-11-28T02:52:36.095Z"
   },
   {
    "duration": 9,
    "start_time": "2024-11-28T02:52:44.073Z"
   },
   {
    "duration": 294,
    "start_time": "2024-11-28T02:53:11.438Z"
   },
   {
    "duration": 105,
    "start_time": "2024-11-28T02:53:11.734Z"
   },
   {
    "duration": 9,
    "start_time": "2024-11-28T02:53:11.841Z"
   },
   {
    "duration": 170,
    "start_time": "2024-11-28T02:53:11.852Z"
   },
   {
    "duration": 6,
    "start_time": "2024-11-28T02:53:12.024Z"
   },
   {
    "duration": 5,
    "start_time": "2024-11-28T02:53:12.033Z"
   },
   {
    "duration": 5,
    "start_time": "2024-11-28T02:53:12.041Z"
   },
   {
    "duration": 4,
    "start_time": "2024-11-28T02:53:12.048Z"
   },
   {
    "duration": 3,
    "start_time": "2024-11-28T02:53:12.073Z"
   },
   {
    "duration": 20,
    "start_time": "2024-11-28T02:53:12.079Z"
   },
   {
    "duration": 10,
    "start_time": "2024-11-28T02:53:12.101Z"
   },
   {
    "duration": 19,
    "start_time": "2024-11-28T02:53:12.113Z"
   },
   {
    "duration": 79,
    "start_time": "2024-11-28T02:53:12.133Z"
   },
   {
    "duration": 46,
    "start_time": "2024-11-28T02:53:12.213Z"
   },
   {
    "duration": 46,
    "start_time": "2024-11-28T02:53:12.261Z"
   },
   {
    "duration": 10,
    "start_time": "2024-11-28T02:53:12.309Z"
   },
   {
    "duration": 3,
    "start_time": "2024-11-28T02:53:12.320Z"
   },
   {
    "duration": 7,
    "start_time": "2024-11-28T02:53:12.325Z"
   },
   {
    "duration": 37,
    "start_time": "2024-11-28T02:53:12.333Z"
   },
   {
    "duration": 101,
    "start_time": "2024-11-28T02:53:12.372Z"
   },
   {
    "duration": 0,
    "start_time": "2024-11-28T02:53:12.475Z"
   },
   {
    "duration": 0,
    "start_time": "2024-11-28T02:53:12.476Z"
   },
   {
    "duration": 0,
    "start_time": "2024-11-28T02:53:12.478Z"
   },
   {
    "duration": 0,
    "start_time": "2024-11-28T02:53:12.479Z"
   },
   {
    "duration": 0,
    "start_time": "2024-11-28T02:53:12.481Z"
   },
   {
    "duration": 0,
    "start_time": "2024-11-28T02:53:12.482Z"
   },
   {
    "duration": 0,
    "start_time": "2024-11-28T02:53:12.484Z"
   },
   {
    "duration": 0,
    "start_time": "2024-11-28T02:53:12.485Z"
   },
   {
    "duration": 10,
    "start_time": "2024-11-28T02:53:41.249Z"
   },
   {
    "duration": 11,
    "start_time": "2024-11-28T02:54:17.396Z"
   },
   {
    "duration": 10,
    "start_time": "2024-11-28T02:55:06.629Z"
   },
   {
    "duration": 11,
    "start_time": "2024-11-28T02:55:12.307Z"
   },
   {
    "duration": 11,
    "start_time": "2024-11-28T02:55:22.970Z"
   },
   {
    "duration": 9,
    "start_time": "2024-11-28T02:55:42.526Z"
   },
   {
    "duration": 9,
    "start_time": "2024-11-28T02:55:50.404Z"
   },
   {
    "duration": 10,
    "start_time": "2024-11-28T03:01:30.864Z"
   },
   {
    "duration": 3,
    "start_time": "2024-11-28T03:12:20.630Z"
   },
   {
    "duration": 12,
    "start_time": "2024-11-28T03:16:46.443Z"
   },
   {
    "duration": 11,
    "start_time": "2024-11-28T03:16:47.706Z"
   },
   {
    "duration": 6,
    "start_time": "2024-11-28T03:16:48.966Z"
   },
   {
    "duration": 6,
    "start_time": "2024-11-28T03:16:51.242Z"
   },
   {
    "duration": 6,
    "start_time": "2024-11-28T03:17:02.536Z"
   },
   {
    "duration": 6,
    "start_time": "2024-11-28T03:17:04.944Z"
   },
   {
    "duration": 14,
    "start_time": "2024-11-28T03:17:39.194Z"
   },
   {
    "duration": 11,
    "start_time": "2024-11-28T03:17:41.726Z"
   },
   {
    "duration": 12,
    "start_time": "2024-11-28T03:17:45.702Z"
   },
   {
    "duration": 11,
    "start_time": "2024-11-28T03:17:47.632Z"
   }
  ],
  "colab": {
   "collapsed_sections": [
    "E0vqbgi9ay0H",
    "VUC88oWjTJw2"
   ],
   "provenance": []
  },
  "kernelspec": {
   "display_name": "ambiente_general",
   "language": "python",
   "name": "python3"
  },
  "language_info": {
   "codemirror_mode": {
    "name": "ipython",
    "version": 3
   },
   "file_extension": ".py",
   "mimetype": "text/x-python",
   "name": "python",
   "nbconvert_exporter": "python",
   "pygments_lexer": "ipython3",
   "version": "3.13.3"
  },
  "toc": {
   "base_numbering": 1,
   "nav_menu": {},
   "number_sections": true,
   "sideBar": true,
   "skip_h1_title": true,
   "title_cell": "Table of Contents",
   "title_sidebar": "Contents",
   "toc_cell": false,
   "toc_position": {},
   "toc_section_display": true,
   "toc_window_display": false
  }
 },
 "nbformat": 4,
 "nbformat_minor": 1
}
