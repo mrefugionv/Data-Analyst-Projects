{
 "cells": [
  {
   "cell_type": "markdown",
   "metadata": {},
   "source": [
    "Hola **Maria**!\n",
    "\n",
    "Soy **Patricio Requena** 👋. Es un placer ser el revisor de tu proyecto el día de hoy!\n",
    "\n",
    "Revisaré tu proyecto detenidamente con el objetivo de ayudarte a mejorar y perfeccionar tus habilidades. Durante mi revisión, identificaré áreas donde puedas hacer mejoras en tu código, señalando específicamente qué y cómo podrías ajustar para optimizar el rendimiento y la claridad de tu proyecto. Además, es importante para mí destacar los aspectos que has manejado excepcionalmente bien. Reconocer tus fortalezas te ayudará a entender qué técnicas y métodos están funcionando a tu favor y cómo puedes aplicarlos en futuras tareas. \n",
    "\n",
    "_**Recuerda que al final de este notebook encontrarás un comentario general de mi parte**_, empecemos!\n",
    "\n",
    "Encontrarás mis comentarios dentro de cajas verdes, amarillas o rojas, ⚠️ **por favor, no muevas, modifiques o borres mis comentarios** ⚠️:\n",
    "\n",
    "\n",
    "<div class=\"alert alert-block alert-success\">\n",
    "<b>Comentario del revisor</b> <a class=“tocSkip”></a>\n",
    "Si todo está perfecto.\n",
    "</div>\n",
    "\n",
    "<div class=\"alert alert-block alert-warning\">\n",
    "<b>Comentario del revisor</b> <a class=“tocSkip”></a>\n",
    "Si tu código está bien pero se puede mejorar o hay algún detalle que le hace falta.\n",
    "</div>\n",
    "\n",
    "<div class=\"alert alert-block alert-danger\">\n",
    "<b>Comentario del revisor</b> <a class=“tocSkip”></a>\n",
    "Si de pronto hace falta algo o existe algún problema con tu código o conclusiones.\n",
    "</div>\n",
    "\n",
    "Puedes responderme de esta forma:\n",
    "<div class=\"alert alert-block alert-info\">\n",
    "<b>Respuesta del estudiante</b> <a class=“tocSkip”></a>\n",
    "</div>"
   ]
  },
  {
   "cell_type": "markdown",
   "metadata": {},
   "source": [
    "# Proyecto Final: Telecomunicaciones - Identificar operadores ineficaces\n",
    "María del Refugio Noriega Vargas"
   ]
  },
  {
   "cell_type": "markdown",
   "metadata": {},
   "source": [
    "## Definir objetivo"
   ]
  },
  {
   "cell_type": "markdown",
   "metadata": {},
   "source": [
    "### ¿Qué se quiere conseguir y por qué?\n",
    "\n",
    "Identificar a los operadores menos eficaces mediante los siguientes indicadores: \n",
    "* La cantidad de llamadas entrantes perdidas (internas y externas).\n",
    "* El tiempo de espera a las llamadas entrantes.\n",
    "* Cantidad de llamadas salientes."
   ]
  },
  {
   "cell_type": "markdown",
   "metadata": {},
   "source": [
    "### ¿A quién le interesa  este análisis?\n",
    "\n",
    "A los y las supervisoras de los operadores del servicio de telefonía virtual CallMeMaybe."
   ]
  },
  {
   "cell_type": "markdown",
   "metadata": {},
   "source": [
    "### ¿Qué decisiones se tomarán de acuerdo al análisis?\n",
    "\n",
    "Decisiones sobre las medidas a implementar para la mejora del desempeño de los operadores.\n"
   ]
  },
  {
   "cell_type": "markdown",
   "metadata": {},
   "source": [
    "## Proponer hipótesis\n",
    "\n",
    "Un operador es de bajo desempeño si la cantidad de llamadas entrantes perdidas es elevado, el tiempo de espera de las llamadas entrantes es elevado y la cantidad de llamadas salientes es bajo. "
   ]
  },
  {
   "cell_type": "markdown",
   "metadata": {},
   "source": [
    "## Preprocesamiento de datos \n"
   ]
  },
  {
   "cell_type": "markdown",
   "metadata": {},
   "source": [
    "### Estudiar características generales\n"
   ]
  },
  {
   "cell_type": "markdown",
   "metadata": {},
   "source": [
    "### Renombrar columnas \n"
   ]
  },
  {
   "cell_type": "markdown",
   "metadata": {},
   "source": [
    "### Conversión de tipos de datos\n"
   ]
  },
  {
   "cell_type": "markdown",
   "metadata": {},
   "source": [
    "### Manejo de valores ausentes\n"
   ]
  },
  {
   "cell_type": "markdown",
   "metadata": {},
   "source": [
    "### Manejo de valores duplicados\n"
   ]
  },
  {
   "cell_type": "markdown",
   "metadata": {},
   "source": [
    "## Análisis exploratorio de datos"
   ]
  },
  {
   "cell_type": "markdown",
   "metadata": {},
   "source": [
    "### Heatmap de cantidad de entrantes llamadas perdidas por día y por operador.\n"
   ]
  },
  {
   "cell_type": "markdown",
   "metadata": {},
   "source": [
    "#### Llamadas perdidas totales"
   ]
  },
  {
   "cell_type": "markdown",
   "metadata": {},
   "source": [
    "#### Llamadas perdidas internas"
   ]
  },
  {
   "cell_type": "markdown",
   "metadata": {},
   "source": [
    "#### Llamadas perdidas externas"
   ]
  },
  {
   "cell_type": "markdown",
   "metadata": {},
   "source": [
    "### Gráfica de línea de tiempo de espera promedio por operador en el periodo de tiempo registrado en la base de datos"
   ]
  },
  {
   "cell_type": "markdown",
   "metadata": {},
   "source": [
    "### Gráfica de barras para la cantidad de llamadas salientes promedio por día para cada operador en el periodo de tiempo registrado en la base de datos"
   ]
  },
  {
   "cell_type": "markdown",
   "metadata": {},
   "source": [
    "## Procesamiento de datos"
   ]
  },
  {
   "cell_type": "markdown",
   "metadata": {},
   "source": [
    "### Determinar valores límites de cada métrica para determinar si un operador es de bajo desempeño"
   ]
  },
  {
   "cell_type": "markdown",
   "metadata": {},
   "source": [
    "### Obtener listado de operadores de bajo desempeño y sus métricas"
   ]
  },
  {
   "cell_type": "markdown",
   "metadata": {},
   "source": [
    "## Enlace a Dashboard (Tableu Public)"
   ]
  },
  {
   "cell_type": "markdown",
   "metadata": {},
   "source": [
    "## Fuentes / documentación consultada"
   ]
  },
  {
   "cell_type": "markdown",
   "metadata": {},
   "source": [
    "<div class=\"alert alert-block alert-success\">\n",
    "<b>Comentario del revisor (1ra Iteración)</b> <a class=\"tocSkip\"></a>\n",
    "    \n",
    "Tienes un plan bastante bien estructurado. Me gustaría dejarte algunos comentarios y recomendaciones para el avance de tu proyecto:\n",
    "\n",
    "- **Contexto y objetivos**: Siempre es importante dejar claro desde un inicio lo que se hará y para qué se hará\n",
    "\n",
    "- **Preprocesamiento de datos**: Es una parte escencial en tu proyecto y lo tienes bastante bien cubierto, felicidades!\n",
    "\n",
    "- **Análisis exploratorio**: Recuerda que debes cubrir esta parte también para entender los datos con los que trabajas, te recomendaría incluir la revisión de datos atípicos que luego puedan llegar a causar alguna métrica errónea al final de tu proyecto.\n",
    "\n",
    "- **Prueba de hipótesis**: Determinar si se tiene una diferencia significativa en nuestra métrica objetivo es importante por lo que hiciste muy bien al incluirla, recuerda comparar entre operadores eficientes y no eficientes con pruebas estadísticas\n",
    "\n",
    "- **Conclusiones y recomendaciones**: Una parte importante para culminar el proyecto ya que es donde se resume todos los hallazgos del análisis\n",
    "    \n",
    "\n",
    "Recuerda que debes realizar una presentación en la última parte de tu proyecto (Empresa callme maybe) con los hallazgos del proyecto y para facilitar la revisión de la presentación procura exportarlo a PDF y aquí debes compartir y explicar tus hallazgos en tu proyecto final.\n",
    "    \n",
    "    \n",
    "Saludos!"
   ]
  }
 ],
 "metadata": {
  "kernelspec": {
   "display_name": "ambiente_general",
   "language": "python",
   "name": "python3"
  },
  "language_info": {
   "codemirror_mode": {
    "name": "ipython",
    "version": 3
   },
   "file_extension": ".py",
   "mimetype": "text/x-python",
   "name": "python",
   "nbconvert_exporter": "python",
   "pygments_lexer": "ipython3",
   "version": "3.13.3"
  }
 },
 "nbformat": 4,
 "nbformat_minor": 4
}
